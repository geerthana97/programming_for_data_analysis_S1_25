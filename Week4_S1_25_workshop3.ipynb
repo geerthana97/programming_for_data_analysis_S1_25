{
  "nbformat": 4,
  "nbformat_minor": 0,
  "metadata": {
    "colab": {
      "provenance": []
    },
    "kernelspec": {
      "name": "python3",
      "display_name": "Python 3"
    },
    "language_info": {
      "name": "python"
    }
  },
  "cells": [
    {
      "cell_type": "markdown",
      "source": [
        "# 📝 Hands-On Exercises: Functions in Python"
      ],
      "metadata": {
        "id": "rBBBtEZIpSt3"
      }
    },
    {
      "cell_type": "markdown",
      "source": [
        "**Task: Write a function greet() that prints the following message**\n",
        "\n",
        "         \"Hello, welcome to Python programming!\"."
      ],
      "metadata": {
        "id": "XGntH738p20h"
      }
    },
    {
      "cell_type": "code",
      "execution_count": null,
      "metadata": {
        "id": "8gNnv88WpSGE",
        "colab": {
          "base_uri": "https://localhost:8080/"
        },
        "outputId": "9e648087-78e1-4f9f-fecf-0190dbbcaad6"
      },
      "outputs": [
        {
          "output_type": "stream",
          "name": "stdout",
          "text": [
            "Hello, welcome to Python programming!\n"
          ]
        }
      ],
      "source": [
        "# Solution:\n",
        "def greet():\n",
        "  print(\"Hello, welcome to Python programming!\")\n",
        "\n",
        "# Call the greet function\n",
        "greet()"
      ]
    },
    {
      "cell_type": "markdown",
      "source": [
        "**Function with Parameters**\n",
        "\n",
        "**Task: Create a function personal_greet(name) that prints a personalized greeting: Call it with at least two different names.**\n",
        "\n",
        "    Hello <name>, glad to see you learning Python!\n",
        "\n",
        "\n"
      ],
      "metadata": {
        "id": "Q_lKdsmmrPIk"
      }
    },
    {
      "cell_type": "code",
      "source": [
        "# Solution:\n",
        "def personal_greet(name):\n",
        "  print(\"Hello\", name + \",\", \"glad to see you learning Python!\")\n",
        "\n",
        "# Call the personal_greet function\n",
        "personal_greet(\"Keerthi\")\n",
        "personal_greet(\"Ravi\")\n"
      ],
      "metadata": {
        "id": "10rOvla2sF0V",
        "colab": {
          "base_uri": "https://localhost:8080/"
        },
        "outputId": "39cb5911-6735-4e53-ded0-c65cff611132"
      },
      "execution_count": null,
      "outputs": [
        {
          "output_type": "stream",
          "name": "stdout",
          "text": [
            "Hello Keerthi, glad to see you learning Python!\n",
            "Hello Ravi, glad to see you learning Python!\n"
          ]
        }
      ]
    },
    {
      "cell_type": "markdown",
      "source": [
        "**Function with Return Value**\n",
        "\n",
        "**Task: Write a function add_numbers(a, b) that returns the sum of two numbers.\n",
        "Call the function by inputting with different numbers and print the results.**"
      ],
      "metadata": {
        "id": "LX-xEfJUl_4v"
      }
    },
    {
      "cell_type": "code",
      "source": [
        "# Solution:\n",
        "def add_numbers(a, b):\n",
        "  return a + b\n",
        "\n",
        "# Call the add_numbers function\n",
        "print(add_numbers(2, 3))"
      ],
      "metadata": {
        "id": "mPrryM53l_fO",
        "colab": {
          "base_uri": "https://localhost:8080/"
        },
        "outputId": "07a699a4-b4f3-4b77-8a71-da60ec5481cc"
      },
      "execution_count": null,
      "outputs": [
        {
          "output_type": "stream",
          "name": "stdout",
          "text": [
            "5\n"
          ]
        }
      ]
    },
    {
      "cell_type": "markdown",
      "source": [
        "**Using Default Parameters**\n",
        "\n",
        "**Task: Write a function power(base, exponent=2) that returns base raised to the power of exponent. Test it by calling power(5) and power(2, 3).**"
      ],
      "metadata": {
        "id": "y1hhufM6oTQT"
      }
    },
    {
      "cell_type": "code",
      "source": [
        "# Solution:\n",
        "def power(base, exponent=2):\n",
        "  return base ** exponent\n",
        "\n",
        "# Call the power function\n",
        "print(power(5))\n",
        "print(power(2,3))\n"
      ],
      "metadata": {
        "id": "tQkyrTVPor0p",
        "colab": {
          "base_uri": "https://localhost:8080/"
        },
        "outputId": "acbf8781-5bbd-482f-ce7b-ec12f860f876"
      },
      "execution_count": null,
      "outputs": [
        {
          "output_type": "stream",
          "name": "stdout",
          "text": [
            "25\n",
            "8\n"
          ]
        }
      ]
    },
    {
      "cell_type": "markdown",
      "source": [
        "**Palindrome Checker**\n",
        "\n",
        "**Task: Write a function is_palindrome(text) that returns True if the string is the same when reversed, otherwise False.**"
      ],
      "metadata": {
        "id": "neevjXSZwOD1"
      }
    },
    {
      "cell_type": "code",
      "source": [
        "# Solution:\n",
        "def is_palindrome(text):\n",
        "  # text = list(text)\n",
        "  # print(text)\n",
        "  return text == text[::-1]\n",
        "\n",
        "# Call the is_palindrome function\n",
        "print(is_palindrome(\"madam\"))\n",
        "print(is_palindrome(\"keerthi\"))\n"
      ],
      "metadata": {
        "id": "zANzzeIcwdDF",
        "colab": {
          "base_uri": "https://localhost:8080/"
        },
        "outputId": "7aba5c8e-bf56-4e79-827c-8681f0a47aa5"
      },
      "execution_count": null,
      "outputs": [
        {
          "output_type": "stream",
          "name": "stdout",
          "text": [
            "True\n",
            "False\n"
          ]
        }
      ]
    },
    {
      "cell_type": "markdown",
      "source": [
        "**Function with Dictionary Lookup**\n",
        "\n",
        "**Task: Write a function day_of_week(num) that returns the day name for numbers 1–7 (1 = Monday, 7 = Sunday). Use a dictionary instead of if.**"
      ],
      "metadata": {
        "id": "6Xu2El4cwvtE"
      }
    },
    {
      "cell_type": "code",
      "source": [
        "# Solution:\n",
        "def day_of_week(num):\n",
        "  days = {1: \"Monday\", 2: \"Tuesday\", 3: \"Wednesday\", 4: \"Thursday\", 5: \"Friday\", 6: \"Saturday\", 7: \"Sunday\"}\n",
        "  return days[num]\n",
        "\n",
        "print(day_of_week(1))\n",
        "print(day_of_week(7))"
      ],
      "metadata": {
        "id": "fDL8AE3Fw_JE",
        "colab": {
          "base_uri": "https://localhost:8080/"
        },
        "outputId": "32e39e68-063e-4d04-a112-7c01312c0952"
      },
      "execution_count": null,
      "outputs": [
        {
          "output_type": "stream",
          "name": "stdout",
          "text": [
            "Monday\n",
            "Sunday\n"
          ]
        }
      ]
    },
    {
      "cell_type": "markdown",
      "source": [
        "**Multiple Return Values**\n",
        "\n",
        "**Task: Create a function circle_measurements(radius) that returns both area and circumference of a circle.**\n",
        "\n",
        "**Use formulas:**\n",
        "\n",
        "**Area = π × r²**\n",
        "\n",
        "**Circumference = 2 × π × r**"
      ],
      "metadata": {
        "id": "QBcosa16pi5e"
      }
    },
    {
      "cell_type": "code",
      "source": [
        "# Solution:\n",
        "import math\n",
        "\n",
        "def circle_measurements(radius):\n",
        "  area = math.pi * radius ** 2\n",
        "  circumference = 2 * math.pi * radius\n",
        "  return area, circumference\n",
        "\n",
        "# Call the circle_measurements function\n",
        "print(circle_measurements(2))"
      ],
      "metadata": {
        "id": "6NylP6IIqX3i",
        "colab": {
          "base_uri": "https://localhost:8080/"
        },
        "outputId": "14731c93-4175-44b2-9ce6-3c4daefcb447"
      },
      "execution_count": null,
      "outputs": [
        {
          "output_type": "stream",
          "name": "stdout",
          "text": [
            "(12.566370614359172, 12.566370614359172)\n"
          ]
        }
      ]
    },
    {
      "cell_type": "markdown",
      "source": [
        "**Function Composition**\n",
        "\n",
        "**Tasks: Write two functions:**\n",
        "\n",
        "* fahrenheit_to_celsius(f) → converts Fahrenheit to Celsius\n",
        "\n",
        "* celsius_to_kelvin(c) → converts Celsius to Kelvin\n",
        "\n",
        "**Then create a third function fahrenheit_to_kelvin(f) that uses the first two functions to convert Fahrenheit to Kelvin.**"
      ],
      "metadata": {
        "id": "dpt3NWdOqgca"
      }
    },
    {
      "cell_type": "code",
      "source": [
        "# Solution:\n",
        "def fahrenheit_to_celsius(f):\n",
        "  return (f - 32) * 5/9\n",
        "\n",
        "print(\"converts Fahrenheit to Celsius :\", fahrenheit_to_celsius(32))\n",
        "\n",
        "def celsius_to_kelvin(c):\n",
        "  return c + 273.15\n",
        "\n",
        "print(\"converts Celsius to Kelvin :\", celsius_to_kelvin(0))\n",
        "\n",
        "print(\"converts Fahrenheit to Kelvin :\", celsius_to_kelvin(0) + fahrenheit_to_celsius(32))\n",
        "\n",
        "def fahrenheit_to_kelvin(f):\n",
        "  return celsius_to_kelvin(fahrenheit_to_celsius(f))\n",
        "\n",
        "# Call the fahrenheit_to_kelvin function\n",
        "print(fahrenheit_to_kelvin(32))\n"
      ],
      "metadata": {
        "id": "uFauTqPRq14y",
        "colab": {
          "base_uri": "https://localhost:8080/"
        },
        "outputId": "2e560919-9544-4977-b3d8-0c9cb693dee1"
      },
      "execution_count": null,
      "outputs": [
        {
          "output_type": "stream",
          "name": "stdout",
          "text": [
            "converts Fahrenheit to Celsius : 0.0\n",
            "converts Celsius to Kelvin : 273.15\n",
            "converts Fahrenheit to Kelvin : 273.15\n",
            "273.15\n"
          ]
        }
      ]
    },
    {
      "cell_type": "markdown",
      "source": [
        "**Function with Keyword Arguments :**\n",
        "\n",
        "**Task: Create a function book_info(title, author, year=2025) that prints the book details. Call it using positional and keyword arguments.**"
      ],
      "metadata": {
        "id": "xVuINNoDsdHt"
      }
    },
    {
      "cell_type": "code",
      "source": [
        "# Solution:\n",
        "def book_info(title, author, year=2025):\n",
        "  print(\"Title:\", title)\n",
        "  print(\"Author:\", author)\n",
        "  print(\"Year:\", year)\n",
        "\n",
        "# Call the book_info function\n",
        "book_info(\"Python\", \"W3 Schools\")\n"
      ],
      "metadata": {
        "id": "OrdKJEx7sXOY",
        "colab": {
          "base_uri": "https://localhost:8080/"
        },
        "outputId": "2860acd2-99e8-4038-8071-670f37d20199"
      },
      "execution_count": null,
      "outputs": [
        {
          "output_type": "stream",
          "name": "stdout",
          "text": [
            "Title: Python\n",
            "Author: W3 Schools\n",
            "Year: 2025\n"
          ]
        }
      ]
    },
    {
      "cell_type": "markdown",
      "source": [
        "**Function with Mathematical Computation**\n",
        "\n",
        "**Task: Write a function quadratic_roots(a, b, c) that returns the two roots of a quadratic equation ax² + bx + c = 0. Use the quadratic formula.**"
      ],
      "metadata": {
        "id": "lesIhkd6s0eM"
      }
    },
    {
      "cell_type": "code",
      "source": [
        "# Solution:\n",
        "import math\n",
        "\n",
        "def quadratic_roots(a, b, c):\n",
        "\n",
        "\n",
        "\n"
      ],
      "metadata": {
        "id": "L5m_6fXTs825"
      },
      "execution_count": null,
      "outputs": []
    },
    {
      "cell_type": "markdown",
      "source": [
        "**Challenge: Calculator Function**\n",
        "\n",
        "**Task: Create a function calculator(a, b, operation) where operation can be \"add\", \"subtract\", \"multiply\", or \"divide\". The function should return the correct result.**"
      ],
      "metadata": {
        "id": "jgY_AO76tCuV"
      }
    },
    {
      "cell_type": "code",
      "source": [
        "# Solution:\n"
      ],
      "metadata": {
        "id": "0WJH97hEtmSq"
      },
      "execution_count": null,
      "outputs": []
    }
  ]
}